{
 "cells": [
  {
   "cell_type": "code",
   "execution_count": 49,
   "metadata": {},
   "outputs": [],
   "source": [
    "# This Cell creates a Parallel corpus from given files.\n",
    "# Our files contains both English and Hindi sentences, So we need to seperate them.\n",
    "\n",
    "import codecs,string\n",
    "\n",
    "def detect_language(character):\n",
    "    maxchar = max(character)\n",
    "    if u'\\u0900' <= maxchar <= u'\\u097f':\n",
    "        return 'hindi'\n",
    "\n",
    "path1 = 'testing_hindi.txt'\n",
    "path2 = 'testing_english.txt'\n",
    "\n",
    "new1 = open(path1, 'w')\n",
    "new2 = open(path2, 'w')\n",
    "\n",
    "vareng = 1 \n",
    "\n",
    "with codecs.open('hindi-visual-genome-test.txt', encoding='utf-8') as f:\n",
    "    input = f.read()\n",
    "    for i in input:\n",
    "        isEng = detect_language(i)\n",
    "        \n",
    "        if (isEng != \"hindi\" and vareng == 1):\n",
    "            new2.write(i)\n",
    "        else:\n",
    "            new1.write(i)\n",
    "            vareng = 0\n",
    "            \n",
    "        if (i == ' ' or i == '\\n'):\n",
    "            new1.write(i)\n",
    "            new2.write(i)\n",
    "        \n",
    "        if(i == '\\n'):\n",
    "            vareng = 1\n",
    "            \n",
    "new1.close()\n",
    "new2.close()"
   ]
  },
  {
   "cell_type": "code",
   "execution_count": 50,
   "metadata": {},
   "outputs": [],
   "source": [
    "hindi_final = \"hindi_challenge.txt\"\n",
    "new3 = open(hindi_final, 'w')\n",
    "\n",
    "f = open(\"testing_hindi.txt\")\n",
    "\n",
    "for line in f:\n",
    "        line = line.strip()\n",
    "        if line:\n",
    "            new3.write(line)\n",
    "            new3.write('\\n')\n",
    "\n",
    "new3.close()\n",
    "f.close()"
   ]
  },
  {
   "cell_type": "code",
   "execution_count": 51,
   "metadata": {},
   "outputs": [],
   "source": [
    "english_final = \"english_challenge.txt\"\n",
    "new4 = open(english_final, 'w')\n",
    "\n",
    "with open('testing_english.txt','r') as file: \n",
    "   \n",
    "    for line in file: \n",
    "        cnt = 0\n",
    "        for word in line.split(): \n",
    "            cnt = cnt + 1\n",
    "            if cnt > 5:\n",
    "                new4.write(word)\n",
    "                new4.write(' ')\n",
    "        new4.write('\\n')\n",
    "            \n",
    "new4.close()"
   ]
  },
  {
   "cell_type": "code",
   "execution_count": 52,
   "metadata": {},
   "outputs": [],
   "source": [
    "f = open(\"english_challenge.txt\")\n",
    "new5 = open(\"eng_challenge.txt\", 'w')\n",
    "for line in f:\n",
    "    line = line.strip()\n",
    "    if line:\n",
    "        new5.write(line)\n",
    "        new5.write('\\n')\n",
    "\n",
    "f.close()\n",
    "new5.close()"
   ]
  },
  {
   "cell_type": "code",
   "execution_count": 2,
   "metadata": {},
   "outputs": [],
   "source": [
    "import sentencepiece as spm"
   ]
  },
  {
   "cell_type": "code",
   "execution_count": 3,
   "metadata": {},
   "outputs": [
    {
     "name": "stdout",
     "output_type": "stream",
     "text": [
      "*** BPE ***\n",
      "['▁this', 'is', 'at', 'est', 'he', 'llow', 'or', 'ld']\n",
      "[]\n"
     ]
    }
   ],
   "source": [
    "spm.SentencePieceTrainer.train('--input=src-train.txt --model_prefix=IITB_eng_bpe --vocab_size=32000 --model_type=bpe ')\n",
    "sp_bpe = spm.SentencePieceProcessor()\n",
    "sp_bpe.load('IITB_eng_bpe.model')\n",
    "\n",
    "print('*** BPE ***')\n",
    "print(sp_bpe.encode_as_pieces('thisisatesthelloworld'))\n",
    "print(sp_bpe.nbest_encode_as_pieces('hello world', 5))  # returns an empty list."
   ]
  },
  {
   "cell_type": "code",
   "execution_count": 18,
   "metadata": {},
   "outputs": [
    {
     "data": {
      "text/plain": [
       "True"
      ]
     },
     "execution_count": 18,
     "metadata": {},
     "output_type": "execute_result"
    }
   ],
   "source": [
    "spm.SentencePieceTrainer.train('--input=IITB.en-hi.hi --model_prefix=IITB_hindi_bpe --vocab_size=32000 --model_type=bpe --character_coverage=0.9995')\n",
    "sp_bpe = spm.SentencePieceProcessor()\n",
    "sp_bpe.load('hindi_bpe.model')\n"
   ]
  },
  {
   "cell_type": "code",
   "execution_count": 9,
   "metadata": {},
   "outputs": [],
   "source": [
    "sp_bpe = spm.SentencePieceProcessor()\n",
    "sp_bpe.load('hindi_bpe.model')\n",
    "\n",
    "new5 = open(\"tgt-val-bpe2.txt\", 'w')\n",
    "\n",
    "with open('NMT_Data/hindi_dev.txt') as file:\n",
    "    for line in file:\n",
    "        for word in line.split():\n",
    "            temp = sp_bpe.encode_as_pieces(word)\n",
    "            for i in temp:\n",
    "                new5.write(i)\n",
    "                new5.write('  ')\n",
    "        new5.write('\\n')\n",
    "\n",
    "new5.close()"
   ]
  },
  {
   "cell_type": "code",
   "execution_count": 33,
   "metadata": {},
   "outputs": [
    {
     "name": "stdout",
     "output_type": "stream",
     "text": [
      "['▁i', '▁am', '▁s', 'inging', '▁in', '▁the', '▁ra', 'ining', '▁we', 'ather', '▁here', '.']\n"
     ]
    }
   ],
   "source": [
    "print(sp_bpe.encode_as_pieces(\"I am Singing in the Raining weather here.\"))"
   ]
  },
  {
   "cell_type": "code",
   "execution_count": 19,
   "metadata": {},
   "outputs": [
    {
     "name": "stdout",
     "output_type": "stream",
     "text": [
      "['▁वस्त्र', 'ित', '▁ट', 'ान', '▁कार्प', 'ेट', 'िंग', '▁शामिल', '▁फर्श']\n"
     ]
    }
   ],
   "source": [
    "sp_bpe = spm.SentencePieceProcessor()\n",
    "sp_bpe.load('IITB_hindi_bpe.model')\n",
    "\n",
    "#temp = sp_bpe.encode_as_pieces(\"वस्त्रित  टान  कार्पेटिंग  शामिल  फर्श\")\n",
    "print(sp_bpe.encode_as_pieces(\"वस्त्रित  टान  कार्पेटिंग  शामिल  फर्श\"))"
   ]
  },
  {
   "cell_type": "code",
   "execution_count": 21,
   "metadata": {},
   "outputs": [
    {
     "name": "stdout",
     "output_type": "stream",
     "text": [
      "['▁overs', 'im', 'pl', 'ification']\n"
     ]
    }
   ],
   "source": [
    "sp_bpe = spm.SentencePieceProcessor()\n",
    "sp_bpe.load('IITB_eng_bpe.model')\n",
    "print(sp_bpe.encode_as_pieces('oversimplification'))\n"
   ]
  },
  {
   "cell_type": "code",
   "execution_count": 23,
   "metadata": {},
   "outputs": [],
   "source": [
    "s = spm.SentencePieceProcessor(model_file = 'IITB_eng_bpe.model')\n",
    "\n",
    "with open(\"src-train.txt\") as file , open(\"srcTrainBpe.txt\", 'w') as out:\n",
    "    \n",
    "    for line in file:\n",
    "        \n",
    "        temp = s.encode(line, out_type = str)\n",
    "        out.write(' '.join(temp))\n",
    "        out.write('\\n')\n",
    "        "
   ]
  },
  {
   "cell_type": "code",
   "execution_count": 25,
   "metadata": {},
   "outputs": [],
   "source": [
    "s = spm.SentencePieceProcessor(model_file = 'IITB_eng_bpe.model')\n",
    "\n",
    "with open(\"src-test.txt\") as file , open(\"srcTestBpe.txt\", 'w') as out:\n",
    "    \n",
    "    for line in file:\n",
    "        \n",
    "        temp = s.encode(line, out_type = str)\n",
    "        out.write(' '.join(temp))\n",
    "        out.write('\\n')\n",
    "        "
   ]
  },
  {
   "cell_type": "code",
   "execution_count": 27,
   "metadata": {},
   "outputs": [],
   "source": [
    "s = spm.SentencePieceProcessor(model_file = 'IITB_hindi_bpe.model')\n",
    "\n",
    "with open(\"IITB.en-hi.hi\") as file , open(\"tgtTrainBpe.txt\", 'w') as out:\n",
    "    \n",
    "    for line in file:\n",
    "        \n",
    "        temp = s.encode(line, out_type = str)\n",
    "        out.write(' '.join(temp))\n",
    "        out.write('\\n')\n",
    "        "
   ]
  },
  {
   "cell_type": "code",
   "execution_count": 29,
   "metadata": {},
   "outputs": [],
   "source": [
    "s = spm.SentencePieceProcessor(model_file = 'IITB_hindi_bpe.model')\n",
    "\n",
    "with open(\"test.hi\") as file , open(\"tgtTestBpe.txt\", 'w') as out:\n",
    "    \n",
    "    for line in file:\n",
    "        \n",
    "        temp = s.encode(line, out_type = str)\n",
    "        out.write(' '.join(temp))\n",
    "        out.write('\\n')\n",
    "        "
   ]
  },
  {
   "cell_type": "code",
   "execution_count": null,
   "metadata": {},
   "outputs": [],
   "source": []
  }
 ],
 "metadata": {
  "kernelspec": {
   "display_name": "Python 3",
   "language": "python",
   "name": "python3"
  },
  "language_info": {
   "codemirror_mode": {
    "name": "ipython",
    "version": 3
   },
   "file_extension": ".py",
   "mimetype": "text/x-python",
   "name": "python",
   "nbconvert_exporter": "python",
   "pygments_lexer": "ipython3",
   "version": "3.6.9"
  }
 },
 "nbformat": 4,
 "nbformat_minor": 2
}
